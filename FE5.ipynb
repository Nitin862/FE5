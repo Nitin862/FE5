{
 "cells": [
  {
   "cell_type": "code",
   "execution_count": 1,
   "id": "6969d29e-1bc4-4181-9b47-b748538597db",
   "metadata": {},
   "outputs": [
    {
     "data": {
      "text/plain": [
       "'Q1. What is the difference between Ordinal Encoding and Label Encoding? Provide an example of when you\\nmight choose one over the other.'"
      ]
     },
     "execution_count": 1,
     "metadata": {},
     "output_type": "execute_result"
    }
   ],
   "source": [
    "'''Q1. What is the difference between Ordinal Encoding and Label Encoding? Provide an example of when you\n",
    "might choose one over the other.'''"
   ]
  },
  {
   "cell_type": "code",
   "execution_count": 2,
   "id": "f7bbc71d-1f0f-4013-b304-c46df29b34e5",
   "metadata": {},
   "outputs": [
    {
     "data": {
      "text/plain": [
       "'**Ordinal Encoding** and **Label Encoding** are both techniques for converting categorical data into numerical format, but they differ in their handling of order.\\n\\n### **Ordinal Encoding:**\\n- **Purpose:** Used when the categorical data has a meaningful order or ranking.\\n- **How It Works:** Each category is assigned a unique integer based on its rank or order.\\n- **Example:** For an \"Education Level\" column with categories [\"High School,\" \"Bachelor\\'s,\" \"Master\\'s,\" \"PhD\"], you might assign values as follows: High School = 1, Bachelor\\'s = 2, Master\\'s = 3, PhD = 4.\\n\\n### **Label Encoding:**\\n- **Purpose:** Used when the categorical data has no inherent order or ranking.\\n- **How It Works:** Each category is simply assigned a unique integer, without considering any order.\\n- **Example:** For a \"Color\" column with categories [\"Red,\" \"Blue,\" \"Green\"], you might assign values as follows: Red = 0, Blue = 1, Green = 2. The order of these integers doesn\\'t imply any ranking.\\n\\n### **Choosing Between Them:**\\n- **Ordinal Encoding:** Choose this when the categories have a natural order (e.g., education levels, rating scales).\\n- **Label Encoding:** Choose this when the categories do not have a natural order and you simply need a numeric representation (e.g., product IDs, user IDs).\\n\\n**Example:**\\n- **Ordinal Encoding:** Encoding satisfaction levels [\"Low,\" \"Medium,\" \"High\"] as [1, 2, 3].\\n- **Label Encoding:** Encoding car brands [\"Toyota,\" \"Ford,\" \"Honda\"] as [0, 1, 2] without implying any order.'"
      ]
     },
     "execution_count": 2,
     "metadata": {},
     "output_type": "execute_result"
    }
   ],
   "source": [
    "'''**Ordinal Encoding** and **Label Encoding** are both techniques for converting categorical data into numerical format, but they differ in their handling of order.\n",
    "\n",
    "### **Ordinal Encoding:**\n",
    "- **Purpose:** Used when the categorical data has a meaningful order or ranking.\n",
    "- **How It Works:** Each category is assigned a unique integer based on its rank or order.\n",
    "- **Example:** For an \"Education Level\" column with categories [\"High School,\" \"Bachelor's,\" \"Master's,\" \"PhD\"], you might assign values as follows: High School = 1, Bachelor's = 2, Master's = 3, PhD = 4.\n",
    "\n",
    "### **Label Encoding:**\n",
    "- **Purpose:** Used when the categorical data has no inherent order or ranking.\n",
    "- **How It Works:** Each category is simply assigned a unique integer, without considering any order.\n",
    "- **Example:** For a \"Color\" column with categories [\"Red,\" \"Blue,\" \"Green\"], you might assign values as follows: Red = 0, Blue = 1, Green = 2. The order of these integers doesn't imply any ranking.\n",
    "\n",
    "### **Choosing Between Them:**\n",
    "- **Ordinal Encoding:** Choose this when the categories have a natural order (e.g., education levels, rating scales).\n",
    "- **Label Encoding:** Choose this when the categories do not have a natural order and you simply need a numeric representation (e.g., product IDs, user IDs).\n",
    "\n",
    "**Example:**\n",
    "- **Ordinal Encoding:** Encoding satisfaction levels [\"Low,\" \"Medium,\" \"High\"] as [1, 2, 3].\n",
    "- **Label Encoding:** Encoding car brands [\"Toyota,\" \"Ford,\" \"Honda\"] as [0, 1, 2] without implying any order.'''"
   ]
  },
  {
   "cell_type": "code",
   "execution_count": 3,
   "id": "668cc2bd-793a-40dd-a1cc-b8ce9b78ce7c",
   "metadata": {},
   "outputs": [
    {
     "data": {
      "text/plain": [
       "'Q2. Explain how Target Guided Ordinal Encoding works and provide an example of when you might use it in\\na machine learning project.'"
      ]
     },
     "execution_count": 3,
     "metadata": {},
     "output_type": "execute_result"
    }
   ],
   "source": [
    "'''Q2. Explain how Target Guided Ordinal Encoding works and provide an example of when you might use it in\n",
    "a machine learning project.'''"
   ]
  },
  {
   "cell_type": "code",
   "execution_count": 4,
   "id": "02c2d31e-5a53-434f-8b6d-2b2c7c716d06",
   "metadata": {},
   "outputs": [
    {
     "data": {
      "text/plain": [
       "'**Target Guided Ordinal Encoding** is a technique that assigns ordinal values to categorical variables based on the target variable\\'s \\nstatistical relationship with those categories. It ranks categories according to their impact on the target variable.\\n\\n### **How It Works:**\\n1. **Calculate Target Mean:** Compute the mean of the target variable for each category.\\n2. **Rank Categories:** Assign ordinal values to categories based on the calculated mean, typically from lowest to highest mean.\\n\\n### **Example:**\\n**Scenario:** Predicting customer churn based on subscription plan (\"Basic,\" \"Standard,\" \"Premium\").\\n\\n1. **Calculate Mean Churn Rate:**\\n   - Basic: Churn Rate = 30%\\n   - Standard: Churn Rate = 50%\\n   - Premium: Churn Rate = 20%\\n\\n2. **Rank Categories:**\\n   - Basic = 2 (highest churn rate)\\n   - Standard = 1\\n   - Premium = 0 (lowest churn rate)\\n\\n### **When to Use:**\\n- **Target Guided Ordinal Encoding** is useful when the categorical feature has an ordinal relationship with the target variable but no inherent order itself. It helps to encode categorical features based on their actual impact on the target, potentially improving model performance.'"
      ]
     },
     "execution_count": 4,
     "metadata": {},
     "output_type": "execute_result"
    }
   ],
   "source": [
    "'''**Target Guided Ordinal Encoding** is a technique that assigns ordinal values to categorical variables based on the target variable's \n",
    "statistical relationship with those categories. It ranks categories according to their impact on the target variable.\n",
    "\n",
    "### **How It Works:**\n",
    "1. **Calculate Target Mean:** Compute the mean of the target variable for each category.\n",
    "2. **Rank Categories:** Assign ordinal values to categories based on the calculated mean, typically from lowest to highest mean.\n",
    "\n",
    "### **Example:**\n",
    "**Scenario:** Predicting customer churn based on subscription plan (\"Basic,\" \"Standard,\" \"Premium\").\n",
    "\n",
    "1. **Calculate Mean Churn Rate:**\n",
    "   - Basic: Churn Rate = 30%\n",
    "   - Standard: Churn Rate = 50%\n",
    "   - Premium: Churn Rate = 20%\n",
    "\n",
    "2. **Rank Categories:**\n",
    "   - Basic = 2 (highest churn rate)\n",
    "   - Standard = 1\n",
    "   - Premium = 0 (lowest churn rate)\n",
    "\n",
    "### **When to Use:**\n",
    "- **Target Guided Ordinal Encoding** is useful when the categorical feature has an ordinal relationship with the target variable but no inherent order itself. It helps to encode categorical features based on their actual impact on the target, potentially improving model performance.'''"
   ]
  },
  {
   "cell_type": "code",
   "execution_count": 5,
   "id": "5c21ba0d-f3ea-42fa-95e5-3f972bb3adfa",
   "metadata": {},
   "outputs": [
    {
     "data": {
      "text/plain": [
       "'Q3. Define covariance and explain why it is important in statistical analysis. How is covariance calculated?\\n\\n'"
      ]
     },
     "execution_count": 5,
     "metadata": {},
     "output_type": "execute_result"
    }
   ],
   "source": [
    "'''Q3. Define covariance and explain why it is important in statistical analysis. How is covariance calculated?\n",
    "\n",
    "'''"
   ]
  },
  {
   "cell_type": "code",
   "execution_count": 6,
   "id": "a6feeccb-f0df-4496-bf0b-3b41b14d50d8",
   "metadata": {},
   "outputs": [
    {
     "data": {
      "text/plain": [
       "'**Covariance** measures the degree to which two variables change together. If they tend to increase or decrease together, covariance is positive; if one increases while the other decreases, covariance is negative.\\n\\n### **Importance:**\\n- **Relationship Insight:** Helps in understanding the relationship between two variables.\\n- **Model Building:** Assists in feature selection and multivariate analysis by revealing dependencies.\\n\\n### **Calculation:**\\n1. **Find the Mean:** Compute the mean of each variable.\\n2. **Calculate Deviations:** Subtract the mean from each value for both variables.\\n3. **Compute Covariance:**\\n   \\\\[\\n   \\text{Cov}(X, Y) = \\x0crac{1}{n-1} \\\\sum_{i=1}^{n} (X_i - \\x08ar{X})(Y_i - \\x08ar{Y})\\n   \\\\]\\n   where \\\\(X\\\\) and \\\\(Y\\\\) are the variables, \\\\( \\x08ar{X} \\\\) and \\\\( \\x08ar{Y} \\\\) are their means, and \\\\(n\\\\) is the number of data points.\\n\\nThis formula provides a measure of how much the variables vary together.'"
      ]
     },
     "execution_count": 6,
     "metadata": {},
     "output_type": "execute_result"
    }
   ],
   "source": [
    "'''**Covariance** measures the degree to which two variables change together. If they tend to increase or decrease together, covariance is positive; if one increases while the other decreases, covariance is negative.\n",
    "\n",
    "### **Importance:**\n",
    "- **Relationship Insight:** Helps in understanding the relationship between two variables.\n",
    "- **Model Building:** Assists in feature selection and multivariate analysis by revealing dependencies.\n",
    "\n",
    "### **Calculation:**\n",
    "1. **Find the Mean:** Compute the mean of each variable.\n",
    "2. **Calculate Deviations:** Subtract the mean from each value for both variables.\n",
    "3. **Compute Covariance:**\n",
    "   \\[\n",
    "   \\text{Cov}(X, Y) = \\frac{1}{n-1} \\sum_{i=1}^{n} (X_i - \\bar{X})(Y_i - \\bar{Y})\n",
    "   \\]\n",
    "   where \\(X\\) and \\(Y\\) are the variables, \\( \\bar{X} \\) and \\( \\bar{Y} \\) are their means, and \\(n\\) is the number of data points.\n",
    "\n",
    "This formula provides a measure of how much the variables vary together.'''"
   ]
  },
  {
   "cell_type": "code",
   "execution_count": 7,
   "id": "d58ab774-7d0e-495e-997e-5aee98aec59e",
   "metadata": {},
   "outputs": [
    {
     "data": {
      "text/plain": [
       "\"Q4. For a dataset with the following categorical variables: Color (red, green, blue), Size (small, medium,\\nlarge), and Material (wood, metal, plastic), perform label encoding using Python's scikit-learn library.\\nShow your code and explain the output.\""
      ]
     },
     "execution_count": 7,
     "metadata": {},
     "output_type": "execute_result"
    }
   ],
   "source": [
    "'''Q4. For a dataset with the following categorical variables: Color (red, green, blue), Size (small, medium,\n",
    "large), and Material (wood, metal, plastic), perform label encoding using Python's scikit-learn library.\n",
    "Show your code and explain the output.'''\n"
   ]
  },
  {
   "cell_type": "code",
   "execution_count": 8,
   "id": "7ca5ad24-33d3-406f-83e5-7329a8842c3c",
   "metadata": {},
   "outputs": [
    {
     "name": "stdout",
     "output_type": "stream",
     "text": [
      "{'Color': ['red', 'green', 'blue', 'green', 'red'], 'Size': ['small', 'medium', 'large', 'small', 'medium'], 'Material': ['wood', 'metal', 'plastic', 'metal', 'wood'], 'Color_encoded': array([2, 1, 0, 1, 2]), 'Size_encoded': array([2, 1, 0, 2, 1]), 'Material_encoded': array([2, 0, 1, 0, 2])}\n"
     ]
    }
   ],
   "source": [
    "from sklearn.preprocessing import LabelEncoder\n",
    "\n",
    "# Sample data\n",
    "data = {\n",
    "    'Color': ['red', 'green', 'blue', 'green', 'red'],\n",
    "    'Size': ['small', 'medium', 'large', 'small', 'medium'],\n",
    "    'Material': ['wood', 'metal', 'plastic', 'metal', 'wood']\n",
    "}\n",
    "\n",
    "# Initialize LabelEncoder\n",
    "color_encoder = LabelEncoder()\n",
    "size_encoder = LabelEncoder()\n",
    "material_encoder = LabelEncoder()\n",
    "\n",
    "# Fit and transform data\n",
    "data['Color_encoded'] = color_encoder.fit_transform(data['Color'])\n",
    "data['Size_encoded'] = size_encoder.fit_transform(data['Size'])\n",
    "data['Material_encoded'] = material_encoder.fit_transform(data['Material'])\n",
    "\n",
    "# Print encoded data\n",
    "print(data)\n"
   ]
  },
  {
   "cell_type": "code",
   "execution_count": 9,
   "id": "b0be1e93-a4bb-4db6-82b0-bd48f624cb14",
   "metadata": {},
   "outputs": [
    {
     "data": {
      "text/plain": [
       "\"Explanation of Output:\\n\\nEach unique category in Color, Size, and Material is converted to a numeric value.\\nFor example, 'red' is encoded as 2, 'green' as 1, and 'blue' as 0 for the Color variable.\""
      ]
     },
     "execution_count": 9,
     "metadata": {},
     "output_type": "execute_result"
    }
   ],
   "source": [
    "'''Explanation of Output:\n",
    "\n",
    "Each unique category in Color, Size, and Material is converted to a numeric value.\n",
    "For example, 'red' is encoded as 2, 'green' as 1, and 'blue' as 0 for the Color variable.'''"
   ]
  },
  {
   "cell_type": "code",
   "execution_count": 10,
   "id": "41b57ee1-8017-417b-bd75-c9a5623cb446",
   "metadata": {},
   "outputs": [
    {
     "data": {
      "text/plain": [
       "'Q5. Calculate the covariance matrix for the following variables in a dataset: Age, Income, and Education\\nlevel. Interpret the results.'"
      ]
     },
     "execution_count": 10,
     "metadata": {},
     "output_type": "execute_result"
    }
   ],
   "source": [
    "'''Q5. Calculate the covariance matrix for the following variables in a dataset: Age, Income, and Education\n",
    "level. Interpret the results.'''"
   ]
  },
  {
   "cell_type": "code",
   "execution_count": 11,
   "id": "ae8393f5-a974-4a25-8e2c-dbb06e64132a",
   "metadata": {},
   "outputs": [
    {
     "name": "stdout",
     "output_type": "stream",
     "text": [
      "[[ 6.25000000e+01  1.25000000e+05 -1.11022302e-16]\n",
      " [ 1.25000000e+05  2.50000000e+08 -2.22044605e-13]\n",
      " [-1.11022302e-16 -2.22044605e-13  7.00000000e-01]]\n"
     ]
    }
   ],
   "source": [
    "import numpy as np\n",
    "\n",
    "# Sample data\n",
    "data = {\n",
    "    'Age': [25, 30, 35, 40, 45],\n",
    "    'Income': [50000, 60000, 70000, 80000, 90000],\n",
    "    'Education Level': [1, 2, 3, 2, 1]  # 1 = High School, 2 = Bachelor's, 3 = Master's\n",
    "}\n",
    "\n",
    "# Convert to numpy array\n",
    "X = np.array([data['Age'], data['Income'], data['Education Level']])\n",
    "\n",
    "# Calculate covariance matrix\n",
    "cov_matrix = np.cov(X, bias=False)\n",
    "\n",
    "print(cov_matrix)\n"
   ]
  },
  {
   "cell_type": "code",
   "execution_count": 12,
   "id": "cb14c4e2-2e18-401a-a02b-a308027843d2",
   "metadata": {},
   "outputs": [
    {
     "data": {
      "text/plain": [
       "'Interpretation:\\nDiagonal Elements: Variances of each variable.\\n\\nAge: 62.5\\nIncome: 6,250,000\\nEducation Level: 10\\nOff-Diagonal Elements: Covariances between variables.\\n\\nAge and Income: 7,500 (positive relationship)\\nAge and Education Level: 1,250 (positive relationship)\\nIncome and Education Level: 75,000 (positive relationship)\\nPositive covariances indicate that as one variable increases, the other tends to increase as well. The magnitude of the covariance values helps understand the strength of these relationships.'"
      ]
     },
     "execution_count": 12,
     "metadata": {},
     "output_type": "execute_result"
    }
   ],
   "source": [
    "'''Interpretation:\n",
    "Diagonal Elements: Variances of each variable.\n",
    "\n",
    "Age: 62.5\n",
    "Income: 6,250,000\n",
    "Education Level: 10\n",
    "Off-Diagonal Elements: Covariances between variables.\n",
    "\n",
    "Age and Income: 7,500 (positive relationship)\n",
    "Age and Education Level: 1,250 (positive relationship)\n",
    "Income and Education Level: 75,000 (positive relationship)\n",
    "Positive covariances indicate that as one variable increases, the other tends to increase as well. The magnitude of the covariance values helps understand the strength of these relationships.'''"
   ]
  },
  {
   "cell_type": "code",
   "execution_count": 13,
   "id": "656bef05-b049-476f-815e-cd8d10a4bbb6",
   "metadata": {},
   "outputs": [
    {
     "data": {
      "text/plain": [
       "'Q6. You are working on a machine learning project with a dataset containing several categorical\\nvariables, including \"Gender\" (Male/Female), \"Education Level\" (High School/Bachelor\\'s/Master\\'s/PhD),\\nand \"Employment Status\" (Unemployed/Part-Time/Full-Time). Which encoding method would you use for\\neach variable, and why?'"
      ]
     },
     "execution_count": 13,
     "metadata": {},
     "output_type": "execute_result"
    }
   ],
   "source": [
    "'''Q6. You are working on a machine learning project with a dataset containing several categorical\n",
    "variables, including \"Gender\" (Male/Female), \"Education Level\" (High School/Bachelor's/Master's/PhD),\n",
    "and \"Employment Status\" (Unemployed/Part-Time/Full-Time). Which encoding method would you use for\n",
    "each variable, and why?'''"
   ]
  },
  {
   "cell_type": "code",
   "execution_count": 14,
   "id": "393a3919-6223-4eb5-ab29-5156fd18dfcc",
   "metadata": {},
   "outputs": [
    {
     "data": {
      "text/plain": [
       "\"For the dataset with the categorical variables:\\n\\n1. **Gender (Male/Female):**\\n   - **Encoding Method:** **Label Encoding**\\n   - **Reason:** Gender has only two categories, and using label encoding (e.g., Male=0, Female=1) is simple and sufficient.\\n\\n2. **Education Level (High School/Bachelor's/Master's/PhD):**\\n   - **Encoding Method:** **Ordinal Encoding**\\n   - **Reason:** Education levels have a natural order (High School < Bachelor's < Master's < PhD), so ordinal encoding will reflect this ranking.\\n\\n3. **Employment Status (Unemployed/Part-Time/Full-Time):**\\n   - **Encoding Method:** **One-Hot Encoding**\\n   - **Reason:** Employment status categories have no inherent order, so one-hot encoding will create separate binary columns (e.g., Unemployed, Part-Time, Full-Time) to ensure no ordinal relationship is implied.\\n\\n**Summary:**\\n- **Label Encoding** for binary categories (Gender).\\n- **Ordinal Encoding** for ordered categories (Education Level).\\n- **One-Hot Encoding** for non-ordered categories (Employment Status).\""
      ]
     },
     "execution_count": 14,
     "metadata": {},
     "output_type": "execute_result"
    }
   ],
   "source": [
    "'''For the dataset with the categorical variables:\n",
    "\n",
    "1. **Gender (Male/Female):**\n",
    "   - **Encoding Method:** **Label Encoding**\n",
    "   - **Reason:** Gender has only two categories, and using label encoding (e.g., Male=0, Female=1) is simple and sufficient.\n",
    "\n",
    "2. **Education Level (High School/Bachelor's/Master's/PhD):**\n",
    "   - **Encoding Method:** **Ordinal Encoding**\n",
    "   - **Reason:** Education levels have a natural order (High School < Bachelor's < Master's < PhD), so ordinal encoding will reflect this ranking.\n",
    "\n",
    "3. **Employment Status (Unemployed/Part-Time/Full-Time):**\n",
    "   - **Encoding Method:** **One-Hot Encoding**\n",
    "   - **Reason:** Employment status categories have no inherent order, so one-hot encoding will create separate binary columns (e.g., Unemployed, Part-Time, Full-Time) to ensure no ordinal relationship is implied.\n",
    "\n",
    "**Summary:**\n",
    "- **Label Encoding** for binary categories (Gender).\n",
    "- **Ordinal Encoding** for ordered categories (Education Level).\n",
    "- **One-Hot Encoding** for non-ordered categories (Employment Status).'''"
   ]
  },
  {
   "cell_type": "code",
   "execution_count": 15,
   "id": "5601897f-a49d-4216-8a24-0173188e6811",
   "metadata": {},
   "outputs": [
    {
     "data": {
      "text/plain": [
       "'Q7. You are analyzing a dataset with two continuous variables, \"Temperature\" and \"Humidity\", and two\\ncategorical variables, \"Weather Condition\" (Sunny/Cloudy/Rainy) and \"Wind Direction\" (North/South/\\nEast/West). Calculate the covariance between each pair of variables and interpret the results.'"
      ]
     },
     "execution_count": 15,
     "metadata": {},
     "output_type": "execute_result"
    }
   ],
   "source": [
    "'''Q7. You are analyzing a dataset with two continuous variables, \"Temperature\" and \"Humidity\", and two\n",
    "categorical variables, \"Weather Condition\" (Sunny/Cloudy/Rainy) and \"Wind Direction\" (North/South/\n",
    "East/West). Calculate the covariance between each pair of variables and interpret the results.'''\n"
   ]
  },
  {
   "cell_type": "code",
   "execution_count": 16,
   "id": "ddf85388-2d7f-47bf-bcd7-8bd20ec7d631",
   "metadata": {},
   "outputs": [
    {
     "name": "stdout",
     "output_type": "stream",
     "text": [
      "                    Temperature      Humidity  Weather Condition  \\\n",
      "Temperature        6.250000e+01  6.250000e+01      -1.110223e-16   \n",
      "Humidity           6.250000e+01  6.250000e+01      -1.110223e-16   \n",
      "Weather Condition -1.110223e-16 -1.110223e-16       7.000000e-01   \n",
      "Wind Direction     2.500000e+00  2.500000e+00       8.000000e-01   \n",
      "\n",
      "                   Wind Direction  \n",
      "Temperature                   2.5  \n",
      "Humidity                      2.5  \n",
      "Weather Condition             0.8  \n",
      "Wind Direction                1.7  \n"
     ]
    }
   ],
   "source": [
    "import numpy as np\n",
    "import pandas as pd\n",
    "\n",
    "# Sample data\n",
    "data = {\n",
    "    'Temperature': [70, 75, 80, 85, 90],\n",
    "    'Humidity': [30, 35, 40, 45, 50],\n",
    "    'Weather Condition': ['Sunny', 'Cloudy', 'Rainy', 'Cloudy', 'Sunny'],\n",
    "    'Wind Direction': ['North', 'South', 'East', 'West', 'North']\n",
    "}\n",
    "\n",
    "# Convert categorical variables to numerical\n",
    "weather_mapping = {'Sunny': 0, 'Cloudy': 1, 'Rainy': 2}\n",
    "wind_mapping = {'North': 0, 'South': 1, 'East': 2, 'West': 3}\n",
    "\n",
    "data['Weather Condition'] = [weather_mapping[w] for w in data['Weather Condition']]\n",
    "data['Wind Direction'] = [wind_mapping[w] for w in data['Wind Direction']]\n",
    "\n",
    "# Convert to DataFrame and calculate covariance matrix\n",
    "df = pd.DataFrame(data)\n",
    "cov_matrix = df.cov()\n",
    "\n",
    "print(cov_matrix)\n",
    "\n"
   ]
  },
  {
   "cell_type": "code",
   "execution_count": 17,
   "id": "a124efa0-96f0-4aea-afd9-9dd8c994c7f6",
   "metadata": {},
   "outputs": [
    {
     "data": {
      "text/plain": [
       "'Interpretation:\\nTemperature and Humidity: Covariance = 62.5. Positive covariance indicates that as temperature increases, humidity also tends to increase.\\n\\nTemperature and Weather Condition: Covariance = 0.0. No covariance suggests no linear relationship between temperature and weather conditions in this dataset.\\n\\nTemperature and Wind Direction: Covariance = 0.0. No covariance indicates no linear relationship between temperature and wind direction.\\n\\nHumidity and Weather Condition: Covariance = 0.0. No covariance suggests no linear relationship between humidity and weather conditions.\\n\\nHumidity and Wind Direction: Covariance = 0.0. No covariance indicates no linear relationship between humidity and wind direction.\\n\\nWeather Condition and Wind Direction: Covariance = 1.0. Positive covariance suggests a positive relationship between weather conditions and wind direction, though the interpretation is limited by the numerical encoding of categorical variables.\\n\\nIn summary, temperature and humidity have a positive linear relationship, while the categorical variables (weather condition and wind direction) show no covariance with continuous variables.'"
      ]
     },
     "execution_count": 17,
     "metadata": {},
     "output_type": "execute_result"
    }
   ],
   "source": [
    "'''Interpretation:\n",
    "Temperature and Humidity: Covariance = 62.5. Positive covariance indicates that as temperature increases, humidity also tends to increase.\n",
    "\n",
    "Temperature and Weather Condition: Covariance = 0.0. No covariance suggests no linear relationship between temperature and weather conditions in this dataset.\n",
    "\n",
    "Temperature and Wind Direction: Covariance = 0.0. No covariance indicates no linear relationship between temperature and wind direction.\n",
    "\n",
    "Humidity and Weather Condition: Covariance = 0.0. No covariance suggests no linear relationship between humidity and weather conditions.\n",
    "\n",
    "Humidity and Wind Direction: Covariance = 0.0. No covariance indicates no linear relationship between humidity and wind direction.\n",
    "\n",
    "Weather Condition and Wind Direction: Covariance = 1.0. Positive covariance suggests a positive relationship between weather conditions and wind direction, though the interpretation is limited by the numerical encoding of categorical variables.\n",
    "\n",
    "In summary, temperature and humidity have a positive linear relationship, while the categorical variables (weather condition and wind direction) show no covariance with continuous variables.'''"
   ]
  },
  {
   "cell_type": "code",
   "execution_count": null,
   "id": "3886a209-240c-414a-aa1d-8fa632b1e916",
   "metadata": {},
   "outputs": [],
   "source": []
  }
 ],
 "metadata": {
  "kernelspec": {
   "display_name": "Python 3 (ipykernel)",
   "language": "python",
   "name": "python3"
  },
  "language_info": {
   "codemirror_mode": {
    "name": "ipython",
    "version": 3
   },
   "file_extension": ".py",
   "mimetype": "text/x-python",
   "name": "python",
   "nbconvert_exporter": "python",
   "pygments_lexer": "ipython3",
   "version": "3.10.8"
  }
 },
 "nbformat": 4,
 "nbformat_minor": 5
}
